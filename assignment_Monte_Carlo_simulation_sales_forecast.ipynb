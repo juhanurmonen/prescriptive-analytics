{
 "cells": [
  {
   "cell_type": "markdown",
   "id": "4c69cf50-5dd9-43be-ac30-15f72289a82a",
   "metadata": {
    "id": "4c69cf50-5dd9-43be-ac30-15f72289a82a"
   },
   "source": [
    "# Business Analytics"
   ]
  },
  {
   "cell_type": "markdown",
   "id": "e80d77f5-7301-488a-b032-2fa67b13aa71",
   "metadata": {},
   "source": [
    "## Prescriptive Analytics"
   ]
  },
  {
   "cell_type": "markdown",
   "id": "8f07b6a6-ccce-46a4-af0f-f9aeeff999e9",
   "metadata": {
    "id": "8f07b6a6-ccce-46a4-af0f-f9aeeff999e9"
   },
   "source": [
    "### Assignment: Monte Carlo simulation with Python &ndash; Sales forecasting"
   ]
  },
  {
   "cell_type": "markdown",
   "id": "4543f472-50a9-42e4-aad8-8a392458a19e",
   "metadata": {
    "id": "4543f472-50a9-42e4-aad8-8a392458a19e"
   },
   "source": [
    "#### Learning objectives"
   ]
  },
  {
   "cell_type": "markdown",
   "id": "68efe2c0-e86f-4955-b743-3fad2433ab67",
   "metadata": {
    "id": "68efe2c0-e86f-4955-b743-3fad2433ab67"
   },
   "source": [
    "This assignment introduces us to simulation using Python and the use of simulation in decision-making. In doing so, you will also learn how to present information clearly and how to document and explain calculation steps created with Jupyter Google Colab notebookm (or Jupter notebook)\n",
    "\n",
    "Add explanations and interpretations of your calculations to the notebook, as well as insights for possible further development."
   ]
  },
  {
   "cell_type": "markdown",
   "id": "e972cfdb-23b8-4dbb-bb40-56d48b29b1be",
   "metadata": {
    "id": "e972cfdb-23b8-4dbb-bb40-56d48b29b1be"
   },
   "source": [
    "#### Initial information"
   ]
  },
  {
   "cell_type": "markdown",
   "id": "f914309d",
   "metadata": {
    "id": "f914309d"
   },
   "source": [
    "The company wants to assess how profitable their new product will be, taking into account certain uncertainties such as sales volume, costs, and turnover."
   ]
  },
  {
   "cell_type": "markdown",
   "id": "idsvXaQBzilW",
   "metadata": {
    "id": "idsvXaQBzilW"
   },
   "source": [
    "Basically, this is simply a calculation of the profit, more precisely\n",
    "$$\\textsf{Profit } = \\textsf{ Turnover } - \\textsf{ Costs }.$$\n",
    "Both turnover and costs are uncertain variables in this analysis."
   ]
  },
  {
   "cell_type": "markdown",
   "id": "4faQLECqzinz",
   "metadata": {
    "id": "4faQLECqzinz"
   },
   "source": [
    "Turnover is calculated as a specific percentage ($r$) of the number of advertisements published on social media ($l$ advertisements a month), taking into account the profit attained from each individual product ($p$ euros).\n",
    "\n",
    "The total costs are calculated as the cost per individual social media advertisement ($c$ euros for an advertisement) and their total number ($l$ pcs/month), taking into account the company's fixed costs ($h$ euros)."
   ]
  },
  {
   "cell_type": "markdown",
   "id": "dPiH95h61AUw",
   "metadata": {
    "id": "dPiH95h61AUw"
   },
   "source": [
    "Here it is assumed that $l$, $r$, $p$, $h$, and $c$ are independent of each other. Note that turnover and costs are still not independent."
   ]
  },
  {
   "cell_type": "markdown",
   "id": "jX9C31dy1AW_",
   "metadata": {
    "id": "jX9C31dy1AW_"
   },
   "source": [
    "The result can now be calculated as follows\n",
    "$$\\textrm{Profit}=l\\cdot r\\cdot p - (l\\cdot c + h).$$"
   ]
  },
  {
   "cell_type": "markdown",
   "id": "I4OU3Quf1AZw",
   "metadata": {
    "id": "I4OU3Quf1AZw"
   },
   "source": [
    "Based on historical data, the variables are assumed to be distributed as follows and have the following values:\n",
    "* Number of ads $l$: normally distributed, mean 1,500, standard deviation 165\n",
    "* Proportion leading to a purchase $r$: evenly distributed, min 1%, max 5%\n",
    "* profit per product $p$: evenly distributed, min €47, max €53\n",
    "* cost per advertisement $c$: evenly distributed, min €0.20, max €0.80\n",
    "* company's fixed costs $h$: €800 per month (fixed)."
   ]
  },
  {
   "cell_type": "markdown",
   "id": "45a2be0b-6ede-4d2d-9e01-7c44428f1fbf",
   "metadata": {
    "id": "45a2be0b-6ede-4d2d-9e01-7c44428f1fbf"
   },
   "source": [
    "#### Matters to be found out"
   ]
  },
  {
   "cell_type": "markdown",
   "id": "611581fb",
   "metadata": {
    "id": "611581fb"
   },
   "source": [
    "Use Monte Carlo simulation to estimate the company's monthly results. You can change the above example values to better suit your situation and also make other assumptions needed for the calculation."
   ]
  },
  {
   "cell_type": "code",
   "execution_count": 1,
   "id": "088b7bce-d893-4778-a506-08abbba21a5f",
   "metadata": {
    "colab": {
     "base_uri": "https://localhost:8080/"
    },
    "id": "088b7bce-d893-4778-a506-08abbba21a5f",
    "outputId": "a8844020-5dd7-4beb-9035-00b7b8a37807"
   },
   "outputs": [
    {
     "name": "stdout",
     "output_type": "stream",
     "text": [
      "Last modified 2025-10-18 18:16 by Juha Nurmonen\n"
     ]
    }
   ],
   "source": [
    "import datetime\n",
    "print(f'Last modified {datetime.datetime.now():%Y-%m-%d %H:%M} by Juha Nurmonen')"
   ]
  }
 ],
 "metadata": {
  "colab": {
   "provenance": []
  },
  "kernelspec": {
   "display_name": "Python 3 (ipykernel)",
   "language": "python",
   "name": "python3"
  },
  "language_info": {
   "codemirror_mode": {
    "name": "ipython",
    "version": 3
   },
   "file_extension": ".py",
   "mimetype": "text/x-python",
   "name": "python",
   "nbconvert_exporter": "python",
   "pygments_lexer": "ipython3",
   "version": "3.12.3"
  }
 },
 "nbformat": 4,
 "nbformat_minor": 5
}
