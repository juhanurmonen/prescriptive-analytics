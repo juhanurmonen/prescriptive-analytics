{
 "cells": [
  {
   "cell_type": "markdown",
   "id": "0de111d5",
   "metadata": {},
   "source": [
    "# Business Analytics"
   ]
  },
  {
   "cell_type": "markdown",
   "id": "cdb370ee-7fe6-4051-96e6-fc59c0cafa6a",
   "metadata": {},
   "source": [
    "## Predictive Analytics"
   ]
  },
  {
   "cell_type": "markdown",
   "id": "4a217e68",
   "metadata": {},
   "source": [
    "### Assignment: Cluster Analysis"
   ]
  },
  {
   "cell_type": "markdown",
   "id": "0511f878",
   "metadata": {},
   "source": [
    "#### Learning Objectives"
   ]
  },
  {
   "cell_type": "markdown",
   "id": "5ebbe69e",
   "metadata": {},
   "source": [
    "This assignment introduces basics of clustering analysis in unsupervised machine learning implemented with Python programming language. In doing so, you will also learn how to present information clearly and how to document and explain calculation steps created in notebooks.  "
   ]
  },
  {
   "cell_type": "markdown",
   "id": "e92bbda2",
   "metadata": {},
   "source": [
    "#### Initial information"
   ]
  },
  {
   "cell_type": "markdown",
   "id": "d3b4a446-28a0-4417-80dc-17ca01309adb",
   "metadata": {},
   "source": [
    "IT Department in your company has circulated the following dataset across the company. A new way of collecting data has been put into operation but nobody seems to know what to do with data collected. One day the dataset is in your mailbox."
   ]
  },
  {
   "cell_type": "markdown",
   "id": "d045da45-2f69-4ab0-862c-986bcd74dc5d",
   "metadata": {},
   "source": [
    "Perform a cluster analysis to the dataset given below. You can also use your own dataset, if you so wish. "
   ]
  },
  {
   "cell_type": "markdown",
   "id": "0107d507-ca4d-45ac-b3c1-c24886b59874",
   "metadata": {},
   "source": [
    "Analyse the results carefully and give marketing department instructions how to exploit them in their work."
   ]
  },
  {
   "cell_type": "markdown",
   "id": "d20c6571-e70a-409c-a56c-24ed2f9c3a04",
   "metadata": {},
   "source": [
    "* [Dataset](https://taanila.fi/sales_data_sample.csv)\n",
    "* [Data description and source: Kaggle](https://www.kaggle.com/datasets/kyanyoga/sample-sales-data)"
   ]
  },
  {
   "cell_type": "code",
   "execution_count": 11,
   "id": "1daa57ae",
   "metadata": {},
   "outputs": [
    {
     "name": "stdout",
     "output_type": "stream",
     "text": [
      "Last modified 2025-10-31 17:27 by Juha Nurmonen\n"
     ]
    }
   ],
   "source": [
    "import datetime\n",
    "import pytz\n",
    "\n",
    "tz = pytz.timezone('Europe/Helsinki')\n",
    "print(f'Last modified {tz.localize(datetime.datetime.now()):%Y-%m-%d %H:%M} by Juha Nurmonen')"
   ]
  }
 ],
 "metadata": {
  "kernelspec": {
   "display_name": "Python [conda env:base] *",
   "language": "python",
   "name": "conda-base-py"
  },
  "language_info": {
   "codemirror_mode": {
    "name": "ipython",
    "version": 3
   },
   "file_extension": ".py",
   "mimetype": "text/x-python",
   "name": "python",
   "nbconvert_exporter": "python",
   "pygments_lexer": "ipython3",
   "version": "3.12.3"
  }
 },
 "nbformat": 4,
 "nbformat_minor": 5
}
