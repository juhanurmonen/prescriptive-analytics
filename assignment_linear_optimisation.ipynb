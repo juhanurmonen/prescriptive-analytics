{
 "cells": [
  {
   "cell_type": "markdown",
   "id": "0de111d5",
   "metadata": {},
   "source": [
    "# Business Analytics"
   ]
  },
  {
   "cell_type": "markdown",
   "id": "cdb370ee-7fe6-4051-96e6-fc59c0cafa6a",
   "metadata": {},
   "source": [
    "## Prescriptive Analytics"
   ]
  },
  {
   "cell_type": "markdown",
   "id": "4a217e68",
   "metadata": {},
   "source": [
    "### Assignment: Linear optimisation"
   ]
  },
  {
   "cell_type": "markdown",
   "id": "0511f878",
   "metadata": {},
   "source": [
    "#### Learning Objectives"
   ]
  },
  {
   "cell_type": "markdown",
   "id": "5ebbe69e",
   "metadata": {},
   "source": [
    "This assignment introduces linear optimisation and how to use optimisation in decision-making. In doing so, you will also learn how to present information clearly and how to document and explain calculation steps created in notebooks.  "
   ]
  },
  {
   "cell_type": "markdown",
   "id": "e92bbda2",
   "metadata": {},
   "source": [
    "#### Initial information"
   ]
  },
  {
   "cell_type": "markdown",
   "id": "e8318916",
   "metadata": {},
   "source": [
    "The company manufactures two products, a grate and a stirrer. The grate has a margin of €250 and the stirrer a margin of €320 per product. There are four stages in the manufacturing process: cutting, punching, pressing, and painting."
   ]
  },
  {
   "cell_type": "markdown",
   "id": "5d4aba9d",
   "metadata": {},
   "source": [
    "Each work stage requires the following amount of time (minutes) from the products: \n",
    "\n",
    "<table align=\"center\">\n",
    "<tr>\n",
    "<th></th>\n",
    "<th>cutting</th>\n",
    "<th>punching</th>\n",
    "<th>pressing</th>\n",
    "<th>painting</th>\n",
    "</tr>\n",
    "  \n",
    "<tr>\n",
    "<th>grate</th>\n",
    "<td>12</td>\n",
    "<td>16</td>\n",
    "<td>12</td>\n",
    "<td>22</td>\n",
    "</tr>\n",
    "  \n",
    "<tr>\n",
    "<th>stirrer</th>\n",
    "<td>20</td>\n",
    "<td>7</td>\n",
    "<td>6</td>\n",
    "<td>15</td>\n",
    "</tr>\n",
    " \n",
    "<tr>\n",
    "<th>capasity</th>\n",
    "<td>25&nbsp;000</td>\n",
    "<td>30&nbsp;000</td>\n",
    "<td>30&nbsp;000</td>\n",
    "<td>20&nbsp;000</td>\n",
    "</tr>\n",
    "        \n",
    "</table>"
   ]
  },
  {
   "cell_type": "markdown",
   "id": "e9e57c9b",
   "metadata": {},
   "source": [
    "#### Matters to be found out"
   ]
  },
  {
   "cell_type": "markdown",
   "id": "fcea7f63",
   "metadata": {},
   "source": [
    "Find out:\n",
    "\n",
    "1. Optimal production program. (20 %)\n",
    "2. Maximum margin. (20 %)\n",
    "3. The company has €25,000 at its disposal, which it can use to increase capacity at any stage of production, but only at one stage, at a cost of €1/min. How should the company use the €25,000 to increase capacity? (30 %)\n",
    "4. In relation to the initial situation (the additional capacity of €25,000 is not used in this case), the company still has a product called jiggery-pokery, which has a margin of €350 per product and requires the following capacity:\n",
    "<table>\n",
    "<tr>\n",
    "<th></th>\n",
    "<th>cutting</th>\n",
    "<th>punching</th>\n",
    "<th>pressing</th>\n",
    "<th>painting</th>\n",
    "</tr>\n",
    "<tr>\n",
    "<th>jiggery-pokery</th>\n",
    "<td>30</td>\n",
    "<td>20</td>\n",
    "<td>10</td>\n",
    "<td>25</td>        \n",
    "</tr>\n",
    "</table>\n",
    "What is the company's optimal production and corrsponding maximum profit margin?  (30 %)"
   ]
  },
  {
   "cell_type": "code",
   "execution_count": 1,
   "id": "1daa57ae",
   "metadata": {},
   "outputs": [
    {
     "name": "stdout",
     "output_type": "stream",
     "text": [
      "Last modified 2025-10-18 18:38 by Juha Nurmonen\n"
     ]
    }
   ],
   "source": [
    "import datetime\n",
    "import pytz\n",
    "\n",
    "tz = pytz.timezone('Europe/Helsinki')\n",
    "print(f'Last modified {tz.localize(datetime.datetime.now()):%Y-%m-%d %H:%M} by Juha Nurmonen')"
   ]
  }
 ],
 "metadata": {
  "kernelspec": {
   "display_name": "Python 3 (ipykernel)",
   "language": "python",
   "name": "python3"
  },
  "language_info": {
   "codemirror_mode": {
    "name": "ipython",
    "version": 3
   },
   "file_extension": ".py",
   "mimetype": "text/x-python",
   "name": "python",
   "nbconvert_exporter": "python",
   "pygments_lexer": "ipython3",
   "version": "3.12.3"
  }
 },
 "nbformat": 4,
 "nbformat_minor": 5
}
